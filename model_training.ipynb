{
 "cells": [
  {
   "cell_type": "code",
   "execution_count": 1,
   "metadata": {},
   "outputs": [
    {
     "name": "stdout",
     "output_type": "stream",
     "text": [
      "Model trained and saved successfully!\n",
      "User Question: What are the symptoms of diabetes?\n",
      "Answer: What are the symptoms of brittle diabetes? The main symptom of brittle diabetes is severe instability of blood glucose levels with frequent and unpredictable episodes of hypoglycemia and/or ketoacidosis that cause a disruption of daily activities. Three clinical presentations have been described: Predominant hyperglycemia with recurrent ketoacidosis, Predominant hypoglycemia, and Mixed hyper- and hypoglycemia. Patients with brittle diabetes have wide swings in their blood sugar levels and often experience differing blood sugar responses to the same dose and type of insulin. Complications such as neuropathy, nephropathy, and retinopathy are common. Most patients are females in their twenties of thirties, though any age or gender can be affected.\n"
     ]
    }
   ],
   "source": [
    "import os\n",
    "import json\n",
    "import pandas as pd\n",
    "import numpy as np\n",
    "from sklearn.feature_extraction.text import TfidfVectorizer\n",
    "from sklearn.metrics.pairwise import cosine_similarity\n",
    "import pickle\n",
    "\n",
    "# Load MedQuAD JSON dataset\n",
    "dataset_path = \"medquads.json\"  # Make sure this file is already converted\n",
    "with open(dataset_path, \"r\", encoding=\"utf-8\") as file:\n",
    "    data = json.load(file)\n",
    "\n",
    "# Extract questions and answers\n",
    "questions = [item[\"question\"] for item in data]\n",
    "answers = [item[\"answer\"] for item in data]\n",
    "\n",
    "# Convert to DataFrame\n",
    "df = pd.DataFrame({\"question\": questions, \"answer\": answers})\n",
    "\n",
    "# TF-IDF Vectorization\n",
    "vectorizer = TfidfVectorizer()\n",
    "X = vectorizer.fit_transform(df[\"question\"])\n",
    "\n",
    "# Save the vectorizer and model\n",
    "with open(\"tfidf_vectorizer.pkl\", \"wb\") as vec_file:\n",
    "    pickle.dump(vectorizer, vec_file)\n",
    "with open(\"tfidf_matrix.pkl\", \"wb\") as matrix_file:\n",
    "    pickle.dump(X, matrix_file)\n",
    "\n",
    "print(\"Model trained and saved successfully!\")\n",
    "\n",
    "# Load the model and test it with a similarity threshold\n",
    "def get_answer(user_query, threshold=0.3):  # Set a similarity threshold\n",
    "    with open(\"tfidf_vectorizer.pkl\", \"rb\") as vec_file:\n",
    "        vectorizer = pickle.load(vec_file)\n",
    "    with open(\"tfidf_matrix.pkl\", \"rb\") as matrix_file:\n",
    "        X = pickle.load(matrix_file)\n",
    "    \n",
    "    user_vec = vectorizer.transform([user_query])\n",
    "    similarities = cosine_similarity(user_vec, X).flatten()\n",
    "    \n",
    "    best_match_idx = np.argmax(similarities)\n",
    "    best_score = similarities[best_match_idx]\n",
    "    \n",
    "    if best_score < threshold:\n",
    "        return \"Sorry, I couldn't find an exact answer. Please try rephrasing your question.\"\n",
    "    \n",
    "    return df.iloc[best_match_idx][\"answer\"]\n",
    "\n",
    "# Example test\n",
    "user_question = \"What are the symptoms of diabetes?\"\n",
    "print(\"User Question:\", user_question)\n",
    "print(\"Answer:\", get_answer(user_question))"
   ]
  }
 ],
 "metadata": {
  "kernelspec": {
   "display_name": "venv",
   "language": "python",
   "name": "python3"
  },
  "language_info": {
   "codemirror_mode": {
    "name": "ipython",
    "version": 3
   },
   "file_extension": ".py",
   "mimetype": "text/x-python",
   "name": "python",
   "nbconvert_exporter": "python",
   "pygments_lexer": "ipython3",
   "version": "3.9.0"
  }
 },
 "nbformat": 4,
 "nbformat_minor": 2
}
